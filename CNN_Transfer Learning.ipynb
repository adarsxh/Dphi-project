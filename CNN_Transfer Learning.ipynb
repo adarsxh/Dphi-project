{
 "cells": [
  {
   "cell_type": "markdown",
   "metadata": {
    "id": "SfMK5FEhUGde"
   },
   "source": [
    "## Download the images\n",
    "\n",
    "\n",
    "We can use **GoogleDriveDownloader** form **google_drive_downloader** library in Python to download the shared files from the shared Google drive link: https://drive.google.com/file/d/1f7uslI-ZHidriQFZR966_aILjlkgDN76/view?usp=sharing\n",
    "\n",
    "The file id in the above link is: **1f7uslI-ZHidriQFZR966_aILjlkgDN76**"
   ]
  },
  {
   "cell_type": "code",
   "execution_count": null,
   "metadata": {
    "colab": {
     "base_uri": "https://localhost:8080/"
    },
    "id": "5_1BysB4Re7f",
    "outputId": "1266b376-bd74-4d9d-a57c-be0b4869f307"
   },
   "outputs": [
    {
     "name": "stdout",
     "output_type": "stream",
     "text": [
      "Downloading 1f7uslI-ZHidriQFZR966_aILjlkgDN76 into content/eye_gender_data.zip... Done.\n",
      "Unzipping...Done.\n"
     ]
    }
   ],
   "source": [
    "from google_drive_downloader import GoogleDriveDownloader as gdd\n",
    "\n",
    "gdd.download_file_from_google_drive(file_id='1f7uslI-ZHidriQFZR966_aILjlkgDN76',\n",
    "                                    dest_path='content/eye_gender_data.zip',\n",
    "                                    unzip=True)"
   ]
  },
  {
   "cell_type": "markdown",
   "metadata": {
    "id": "SM_FDQgXbh_-"
   },
   "source": [
    "We have all the files from the shared Google drive link downloaded in the colab environment."
   ]
  },
  {
   "cell_type": "markdown",
   "metadata": {
    "id": "wsIqjb7Ebs3B"
   },
   "source": [
    "## Loading Libraries\n",
    "All Python capabilities are not loaded to our working environment by default (even they are already installed in your system). So, we import each and every library that we want to use.\n",
    "\n",
    "We chose alias names for our libraries for the sake of our convenience (numpy --> np and pandas --> pd, tensorlow --> tf).\n",
    "\n",
    "Note: You can import all the libraries that you think will be required or can import it as you go along."
   ]
  },
  {
   "cell_type": "code",
   "execution_count": 1,
   "metadata": {
    "id": "BIe16kmoUmhr"
   },
   "outputs": [],
   "source": [
    "import pandas as pd                                     # Data analysis and manipultion tool\n",
    "import numpy as np                                      # Fundamental package for linear algebra and multidimensional arrays\n",
    "import tensorflow as tf                                 # Deep Learning Tool\n",
    "import os                                               # OS module in Python provides a way of using operating system dependent functionality\n",
    "import cv2                                              # Library for image processing\n",
    "from sklearn.model_selection import train_test_split    # For splitting the data into train and validation set\n",
    "from sklearn.metrics import f1_score"
   ]
  },
  {
   "cell_type": "markdown",
   "metadata": {
    "id": "IAXqCpedduVx"
   },
   "source": [
    "## Loading and preparing training data\n"
   ]
  },
  {
   "cell_type": "code",
   "execution_count": 6,
   "metadata": {
    "id": "vMXmX8g3dflK"
   },
   "outputs": [],
   "source": [
    "labels = pd.read_csv(\"content/eye_gender_data/Training_set.csv\")   # loading the labels\n",
    "file_paths = [[fname, 'content/eye_gender_data/train/' + fname] for fname in labels['filename']]\n",
    "images = pd.DataFrame(file_paths, columns=['filename', 'filepaths'])\n",
    "train_data = pd.merge(images, labels, how = 'inner', on = 'filename')\n",
    "\n",
    "X_train = [] # initialize an empty numpy array\n",
    "y_train = []\n",
    "image_size = 100      # image size taken is 100 here. one can take other size too\n",
    "for i in range(len(train_data)):\n",
    "    img_array = cv2.imread(train_data['filepaths'][i])   # converting the image to gray scale\n",
    "    new_img_array = cv2.resize(img_array, (image_size, image_size))      # resizing the image array\n",
    "    X_train.append(new_img_array)\n",
    "    y_train.append(train_data['label'][i])"
   ]
  },
  {
   "cell_type": "code",
   "execution_count": 7,
   "metadata": {
    "id": "FldofLw1fCxI"
   },
   "outputs": [],
   "source": [
    "X_train=np.array(X_train)\n",
    "y_train=np.array(y_train)\n",
    "\n",
    "# labeling male as 1 and female as 0\n",
    "y_train=np.where(y_train==\"male\",1,0)"
   ]
  },
  {
   "cell_type": "code",
   "execution_count": 8,
   "metadata": {},
   "outputs": [
    {
     "name": "stdout",
     "output_type": "stream",
     "text": [
      "(9220, 100, 100, 3)\n",
      "(9220,)\n"
     ]
    }
   ],
   "source": [
    "print(X_train.shape)\n",
    "print(y_train.shape)"
   ]
  },
  {
   "cell_type": "markdown",
   "metadata": {
    "id": "BvIxaRD6sn3m"
   },
   "source": [
    "## Data Pre-processing\n",
    "It is necessary to bring all the images in the same shape and size, also convert them to their pixel values because all machine learning or deep learning models accepts only the numerical data. Also we need to convert all the labels from categorical to numerical values."
   ]
  },
  {
   "cell_type": "code",
   "execution_count": 9,
   "metadata": {
    "id": "vxPiZCLpsWrd"
   },
   "outputs": [
    {
     "name": "stdout",
     "output_type": "stream",
     "text": [
      "\n",
      "X_train.shape: (9220, 100, 100, 3), of uint8\n"
     ]
    }
   ],
   "source": [
    "# reshape for feeding into the model\n",
    "X_train = X_train.reshape(X_train.shape[0], 100, 100, 3)\n",
    "\n",
    "print('\\nX_train.shape: {}, of {}'.format(X_train.shape, X_train.dtype))"
   ]
  },
  {
   "cell_type": "markdown",
   "metadata": {
    "id": "cDCZ53yE7340"
   },
   "source": [
    "## Building Model & Hyperparameter tuning\n",
    "Now we are finally ready, and we can train the model.\n"
   ]
  },
  {
   "cell_type": "code",
   "execution_count": 10,
   "metadata": {
    "id": "kOKWYA6Ua4Uh"
   },
   "outputs": [
    {
     "name": "stdout",
     "output_type": "stream",
     "text": [
      "Model: \"vgg19\"\n",
      "_________________________________________________________________\n",
      "Layer (type)                 Output Shape              Param #   \n",
      "=================================================================\n",
      "input_1 (InputLayer)         [(None, 100, 100, 3)]     0         \n",
      "_________________________________________________________________\n",
      "block1_conv1 (Conv2D)        (None, 100, 100, 64)      1792      \n",
      "_________________________________________________________________\n",
      "block1_conv2 (Conv2D)        (None, 100, 100, 64)      36928     \n",
      "_________________________________________________________________\n",
      "block1_pool (MaxPooling2D)   (None, 50, 50, 64)        0         \n",
      "_________________________________________________________________\n",
      "block2_conv1 (Conv2D)        (None, 50, 50, 128)       73856     \n",
      "_________________________________________________________________\n",
      "block2_conv2 (Conv2D)        (None, 50, 50, 128)       147584    \n",
      "_________________________________________________________________\n",
      "block2_pool (MaxPooling2D)   (None, 25, 25, 128)       0         \n",
      "_________________________________________________________________\n",
      "block3_conv1 (Conv2D)        (None, 25, 25, 256)       295168    \n",
      "_________________________________________________________________\n",
      "block3_conv2 (Conv2D)        (None, 25, 25, 256)       590080    \n",
      "_________________________________________________________________\n",
      "block3_conv3 (Conv2D)        (None, 25, 25, 256)       590080    \n",
      "_________________________________________________________________\n",
      "block3_conv4 (Conv2D)        (None, 25, 25, 256)       590080    \n",
      "_________________________________________________________________\n",
      "block3_pool (MaxPooling2D)   (None, 12, 12, 256)       0         \n",
      "_________________________________________________________________\n",
      "block4_conv1 (Conv2D)        (None, 12, 12, 512)       1180160   \n",
      "_________________________________________________________________\n",
      "block4_conv2 (Conv2D)        (None, 12, 12, 512)       2359808   \n",
      "_________________________________________________________________\n",
      "block4_conv3 (Conv2D)        (None, 12, 12, 512)       2359808   \n",
      "_________________________________________________________________\n",
      "block4_conv4 (Conv2D)        (None, 12, 12, 512)       2359808   \n",
      "_________________________________________________________________\n",
      "block4_pool (MaxPooling2D)   (None, 6, 6, 512)         0         \n",
      "_________________________________________________________________\n",
      "block5_conv1 (Conv2D)        (None, 6, 6, 512)         2359808   \n",
      "_________________________________________________________________\n",
      "block5_conv2 (Conv2D)        (None, 6, 6, 512)         2359808   \n",
      "_________________________________________________________________\n",
      "block5_conv3 (Conv2D)        (None, 6, 6, 512)         2359808   \n",
      "_________________________________________________________________\n",
      "block5_conv4 (Conv2D)        (None, 6, 6, 512)         2359808   \n",
      "_________________________________________________________________\n",
      "block5_pool (MaxPooling2D)   (None, 3, 3, 512)         0         \n",
      "=================================================================\n",
      "Total params: 20,024,384\n",
      "Trainable params: 20,024,384\n",
      "Non-trainable params: 0\n",
      "_________________________________________________________________\n"
     ]
    }
   ],
   "source": [
    "# define input shape\n",
    "INPUT_SHAPE = (100, 100, 3)\n",
    "\n",
    "# get the VGG19 model\n",
    "vgg_layers = tf.keras.applications.vgg19.VGG19(weights='imagenet', include_top=False, \n",
    "                                               input_shape=INPUT_SHAPE)\n",
    "\n",
    "vgg_layers.summary()"
   ]
  },
  {
   "cell_type": "code",
   "execution_count": 11,
   "metadata": {
    "id": "ZQWMyQLva53K"
   },
   "outputs": [
    {
     "name": "stdout",
     "output_type": "stream",
     "text": [
      "<tensorflow.python.keras.engine.input_layer.InputLayer object at 0x0000027A9B598CD0> True\n",
      "<tensorflow.python.keras.layers.convolutional.Conv2D object at 0x0000027A9B5FCAC0> True\n",
      "<tensorflow.python.keras.layers.convolutional.Conv2D object at 0x0000027AA7108610> True\n",
      "<tensorflow.python.keras.layers.pooling.MaxPooling2D object at 0x0000027AA7108280> True\n",
      "<tensorflow.python.keras.layers.convolutional.Conv2D object at 0x0000027A9B5DEA00> True\n",
      "<tensorflow.python.keras.layers.convolutional.Conv2D object at 0x0000027A9B5E26D0> True\n",
      "<tensorflow.python.keras.layers.pooling.MaxPooling2D object at 0x0000027A9B5B49A0> True\n",
      "<tensorflow.python.keras.layers.convolutional.Conv2D object at 0x0000027A9B5DE4C0> True\n",
      "<tensorflow.python.keras.layers.convolutional.Conv2D object at 0x0000027A9B5EAA60> True\n",
      "<tensorflow.python.keras.layers.convolutional.Conv2D object at 0x0000027A9B5ECD60> True\n",
      "<tensorflow.python.keras.layers.convolutional.Conv2D object at 0x0000027A9B7331C0> True\n",
      "<tensorflow.python.keras.layers.pooling.MaxPooling2D object at 0x0000027A9B5E59D0> True\n",
      "<tensorflow.python.keras.layers.convolutional.Conv2D object at 0x0000027A9B731F40> True\n",
      "<tensorflow.python.keras.layers.convolutional.Conv2D object at 0x0000027A9B736CA0> True\n",
      "<tensorflow.python.keras.layers.convolutional.Conv2D object at 0x0000027A9B5EA880> True\n",
      "<tensorflow.python.keras.layers.convolutional.Conv2D object at 0x0000027A9B5B4FA0> True\n",
      "<tensorflow.python.keras.layers.pooling.MaxPooling2D object at 0x0000027A9B736C70> True\n",
      "<tensorflow.python.keras.layers.convolutional.Conv2D object at 0x0000027A9B5E5F10> True\n",
      "<tensorflow.python.keras.layers.convolutional.Conv2D object at 0x0000027A9B73F8B0> True\n",
      "<tensorflow.python.keras.layers.convolutional.Conv2D object at 0x0000027A9B740BB0> True\n",
      "<tensorflow.python.keras.layers.convolutional.Conv2D object at 0x0000027A9B7404C0> True\n",
      "<tensorflow.python.keras.layers.pooling.MaxPooling2D object at 0x0000027A9B73AB80> True\n"
     ]
    }
   ],
   "source": [
    "# Fine-tune all the layers\n",
    "for layer in vgg_layers.layers:\n",
    "    layer.trainable = True\n",
    "\n",
    "# Check the trainable status of the individual layers\n",
    "for layer in vgg_layers.layers:\n",
    "    print(layer, layer.trainable)"
   ]
  },
  {
   "cell_type": "code",
   "execution_count": 12,
   "metadata": {
    "id": "_jkmDd6PbAJH"
   },
   "outputs": [
    {
     "name": "stdout",
     "output_type": "stream",
     "text": [
      "Model: \"sequential\"\n",
      "_________________________________________________________________\n",
      "Layer (type)                 Output Shape              Param #   \n",
      "=================================================================\n",
      "vgg19 (Functional)           (None, 3, 3, 512)         20024384  \n",
      "_________________________________________________________________\n",
      "flatten (Flatten)            (None, 4608)              0         \n",
      "_________________________________________________________________\n",
      "dense (Dense)                (None, 256)               1179904   \n",
      "_________________________________________________________________\n",
      "dropout (Dropout)            (None, 256)               0         \n",
      "_________________________________________________________________\n",
      "dense_1 (Dense)              (None, 256)               65792     \n",
      "_________________________________________________________________\n",
      "dropout_1 (Dropout)          (None, 256)               0         \n",
      "_________________________________________________________________\n",
      "dense_2 (Dense)              (None, 2)                 514       \n",
      "=================================================================\n",
      "Total params: 21,270,594\n",
      "Trainable params: 21,270,594\n",
      "Non-trainable params: 0\n",
      "_________________________________________________________________\n"
     ]
    }
   ],
   "source": [
    "# define sequential model\n",
    "model = tf.keras.models.Sequential()\n",
    "\n",
    "# Add the vgg convolutional base model\n",
    "model.add(vgg_layers)\n",
    "\n",
    "# add flatten layer\n",
    "model.add(tf.keras.layers.Flatten())\n",
    "\n",
    "# add dense layers with some dropout\n",
    "model.add(tf.keras.layers.Dense(256, activation='relu'))\n",
    "model.add(tf.keras.layers.Dropout(rate=0.3))\n",
    "model.add(tf.keras.layers.Dense(256, activation='relu'))\n",
    "model.add(tf.keras.layers.Dropout(rate=0.3))\n",
    "\n",
    "# add output layer\n",
    "model.add(tf.keras.layers.Dense(2, activation='softmax'))\n",
    "\n",
    "# compile model\n",
    "model.compile(optimizer=tf.keras.optimizers.Adam(learning_rate=2e-5), \n",
    "              loss='sparse_categorical_crossentropy', \n",
    "              metrics=['accuracy'])\n",
    "\n",
    "# view model layers\n",
    "model.summary()"
   ]
  },
  {
   "cell_type": "markdown",
   "metadata": {
    "id": "tc3lSJ2a-OYt"
   },
   "source": [
    "## Validate the model\n"
   ]
  },
  {
   "cell_type": "code",
   "execution_count": null,
   "metadata": {},
   "outputs": [],
   "source": [
    "EPOCHS = 100\n",
    "X_train = X_train / 255.\n",
    "es_callback = tf.keras.callbacks.EarlyStopping(monitor='val_loss', patience=2, \n",
    "                                               restore_best_weights=True,\n",
    "                                               verbose=1)\n",
    "\n",
    "history = model.fit(X_train, y_train,\n",
    "                    batch_size=32,\n",
    "                    callbacks=[es_callback], \n",
    "                    validation_split=0.1, epochs=EPOCHS,\n",
    "                    verbose=1)"
   ]
  },
  {
   "cell_type": "markdown",
   "metadata": {
    "id": "kLrpm-If-lRT"
   },
   "source": [
    "## Predict The Output For Testing Dataset 😅\n",
    "We have trained our model, evaluated it and now finally we will predict the output/target for the testing data (i.e. Test.csv)."
   ]
  },
  {
   "cell_type": "markdown",
   "metadata": {
    "id": "nG70J6Un-s2G"
   },
   "source": [
    "#### Load Test Set\n",
    "Load the test data on which final submission is to be made."
   ]
  },
  {
   "cell_type": "code",
   "execution_count": 14,
   "metadata": {
    "id": "iji8OaFF-fSp"
   },
   "outputs": [],
   "source": [
    "labels = pd.read_csv(\"content/eye_gender_data/Testing_set.csv\")   # loading the labels\n",
    "file_paths = [[fname, 'content/eye_gender_data/test/' + fname] for fname in labels['filename']]\n",
    "images = pd.DataFrame(file_paths, columns=['filename', 'filepaths'])\n",
    "test_data = pd.merge(images, labels, how = 'inner', on = 'filename')\n",
    "\n",
    "X_test = [] # initialize an empty numpy array\n",
    "image_size = 100      # image size taken is 100 here. one can take other size too\n",
    "for i in range(len(test_data)):\n",
    "    img_array = cv2.imread(test_data['filepaths'][i])   # converting the image to gray scale\n",
    "    new_img_array = cv2.resize(img_array, (image_size, image_size))      # resizing the image array\n",
    "    X_test.append(new_img_array)"
   ]
  },
  {
   "cell_type": "code",
   "execution_count": 15,
   "metadata": {},
   "outputs": [
    {
     "data": {
      "text/plain": [
       "(2305, 100, 100, 3)"
      ]
     },
     "execution_count": 15,
     "metadata": {},
     "output_type": "execute_result"
    }
   ],
   "source": [
    "X_test=np.array(X_test)\n",
    "X_test.shape"
   ]
  },
  {
   "cell_type": "code",
   "execution_count": 16,
   "metadata": {},
   "outputs": [],
   "source": [
    "X_test = X_test / 255."
   ]
  },
  {
   "cell_type": "markdown",
   "metadata": {
    "id": "ZqSujaW0CRi9"
   },
   "source": [
    "## Data Pre-processing on test_data\n"
   ]
  },
  {
   "cell_type": "code",
   "execution_count": 18,
   "metadata": {
    "id": "Wy7-NZ7TCiSQ"
   },
   "outputs": [
    {
     "name": "stdout",
     "output_type": "stream",
     "text": [
      "\n",
      "X_test.shape: (2305, 100, 100, 3), of float64\n"
     ]
    }
   ],
   "source": [
    "# reshape for feeding into the model\n",
    "X_test = X_test.reshape(X_test.shape[0], 100, 100, 3)\n",
    "\n",
    "print('\\nX_test.shape: {}, of {}'.format(X_test.shape, X_test.dtype))"
   ]
  },
  {
   "cell_type": "markdown",
   "metadata": {
    "id": "AxtDS6-0J0s2"
   },
   "source": [
    "### Make Prediction on Test Dataset\n",
    "Time to make a submission!!!"
   ]
  },
  {
   "cell_type": "code",
   "execution_count": null,
   "metadata": {
    "id": "yXLCDKVrJuzY"
   },
   "outputs": [],
   "source": [
    "predictions = model.predict(X_test)\n",
    "predictions[:5]"
   ]
  },
  {
   "cell_type": "code",
   "execution_count": null,
   "metadata": {
    "id": "MYeK05BHLAen"
   },
   "outputs": [],
   "source": [
    "prediction_labels = np.argmax(predictions, axis=1)\n",
    "prediction_labels[:10]"
   ]
  },
  {
   "cell_type": "markdown",
   "metadata": {
    "id": "THaqbN4LM6YX"
   },
   "source": [
    "## **How to save prediciton results locally via jupyter notebook?**\n",
    "If you are working on Jupyter notebook, execute below block of codes. A file named 'submission.csv' will be created in your current working directory."
   ]
  },
  {
   "cell_type": "code",
   "execution_count": null,
   "metadata": {
    "id": "5I2wAC5RMwvJ"
   },
   "outputs": [],
   "source": [
    "res = pd.DataFrame({'filename': test_images['filename'], 'label': predictions})  # prediction is nothing but the final predictions of your model on input features of your new unseen test data\n",
    "res.to_csv(\"submission.csv\", index = False)      # the csv file will be saved locally on the same location where this notebook is located."
   ]
  },
  {
   "cell_type": "markdown",
   "metadata": {
    "id": "fquFjyl6OfGz"
   },
   "source": [
    "# **OR,**\n",
    "**If you are working on Google Colab then use the below set of code to save prediction results locally**"
   ]
  },
  {
   "cell_type": "markdown",
   "metadata": {
    "id": "ILu2PfzNOqLx"
   },
   "source": [
    "## **How to save prediction results locally via colab notebook?**\n",
    "If you are working on Google Colab Notebook, execute below block of codes. A file named 'prediction_results' will be downloaded in your system."
   ]
  },
  {
   "cell_type": "code",
   "execution_count": null,
   "metadata": {
    "colab": {
     "base_uri": "https://localhost:8080/",
     "height": 17
    },
    "id": "FpcTFRw7NgXp",
    "outputId": "5a5a5e67-a3f0-4031-8ce2-3757a03b0e4b"
   },
   "outputs": [
    {
     "data": {
      "application/javascript": [
       "\n",
       "    async function download(id, filename, size) {\n",
       "      if (!google.colab.kernel.accessAllowed) {\n",
       "        return;\n",
       "      }\n",
       "      const div = document.createElement('div');\n",
       "      const label = document.createElement('label');\n",
       "      label.textContent = `Downloading \"${filename}\": `;\n",
       "      div.appendChild(label);\n",
       "      const progress = document.createElement('progress');\n",
       "      progress.max = size;\n",
       "      div.appendChild(progress);\n",
       "      document.body.appendChild(div);\n",
       "\n",
       "      const buffers = [];\n",
       "      let downloaded = 0;\n",
       "\n",
       "      const channel = await google.colab.kernel.comms.open(id);\n",
       "      // Send a message to notify the kernel that we're ready.\n",
       "      channel.send({})\n",
       "\n",
       "      for await (const message of channel.messages) {\n",
       "        // Send a message to notify the kernel that we're ready.\n",
       "        channel.send({})\n",
       "        if (message.buffers) {\n",
       "          for (const buffer of message.buffers) {\n",
       "            buffers.push(buffer);\n",
       "            downloaded += buffer.byteLength;\n",
       "            progress.value = downloaded;\n",
       "          }\n",
       "        }\n",
       "      }\n",
       "      const blob = new Blob(buffers, {type: 'application/binary'});\n",
       "      const a = document.createElement('a');\n",
       "      a.href = window.URL.createObjectURL(blob);\n",
       "      a.download = filename;\n",
       "      div.appendChild(a);\n",
       "      a.click();\n",
       "      div.remove();\n",
       "    }\n",
       "  "
      ],
      "text/plain": [
       "<IPython.core.display.Javascript object>"
      ]
     },
     "metadata": {
      "tags": []
     },
     "output_type": "display_data"
    },
    {
     "data": {
      "application/javascript": [
       "download(\"download_adc89ccb-ea74-42a5-95f1-8831775872bd\", \"submission.csv\", 329580)"
      ],
      "text/plain": [
       "<IPython.core.display.Javascript object>"
      ]
     },
     "metadata": {
      "tags": []
     },
     "output_type": "display_data"
    }
   ],
   "source": [
    "res = pd.DataFrame({'filename': test_images['filename'], 'label': predictions})  # prediction is nothing but the final predictions of your model on input features of your new unseen test data\n",
    "res.to_csv(\"submission.csv\", index = False) \n",
    "\n",
    "# To download the csv file locally\n",
    "from google.colab import files        \n",
    "files.download('submission.csv')"
   ]
  },
  {
   "cell_type": "markdown",
   "metadata": {
    "id": "NohZiMIkO_tX"
   },
   "source": [
    "# **Well Done! 👍**\n",
    "You are all set to make a submission. Let's head to the **[challenge page](https://dphi.tech/challenges/4-week-deep-learning-online-bootcamp-final-assignment-sex-determination-by-morphometry-of-eyes/144/submit)** to make the submission."
   ]
  }
 ],
 "metadata": {
  "colab": {
   "name": "4 Week Deep Learning Bootcamp - Final Assignment: Template Notebook",
   "provenance": []
  },
  "kernelspec": {
   "display_name": "Python 3",
   "language": "python",
   "name": "python3"
  },
  "language_info": {
   "codemirror_mode": {
    "name": "ipython",
    "version": 3
   },
   "file_extension": ".py",
   "mimetype": "text/x-python",
   "name": "python",
   "nbconvert_exporter": "python",
   "pygments_lexer": "ipython3",
   "version": "3.8.8"
  }
 },
 "nbformat": 4,
 "nbformat_minor": 1
}
