{
 "cells": [
  {
   "cell_type": "code",
   "execution_count": 2,
   "id": "5d2c55e3",
   "metadata": {},
   "outputs": [],
   "source": [
    "from google_drive_downloader import GoogleDriveDownloader as gdd\n",
    "\n",
    "gdd.download_file_from_google_drive(file_id='1f7uslI-ZHidriQFZR966_aILjlkgDN76',\n",
    "                                    dest_path='content/eye_gender_data.zip',\n",
    "                                    unzip=True)"
   ]
  },
  {
   "cell_type": "code",
   "execution_count": 3,
   "id": "6b20ac97",
   "metadata": {},
   "outputs": [],
   "source": [
    "import pandas as pd                                     # Data analysis and manipultion tool\n",
    "import numpy as np                                      # Fundamental package for linear algebra and multidimensional arrays\n",
    "import tensorflow as tf                                 # Deep Learning Tool\n",
    "import os                                               # OS module in Python provides a way of using operating system dependent functionality\n",
    "import cv2                                              # Library for image processing\n",
    "from sklearn.model_selection import train_test_split    # For splitting the data into train and validation set"
   ]
  },
  {
   "cell_type": "code",
   "execution_count": 4,
   "id": "6a6170a6",
   "metadata": {},
   "outputs": [],
   "source": [
    "labels = pd.read_csv(\"content/eye_gender_data/Training_set.csv\") "
   ]
  },
  {
   "cell_type": "code",
   "execution_count": 5,
   "id": "29b32b0f",
   "metadata": {},
   "outputs": [],
   "source": [
    "file_paths = [[fname, 'content/eye_gender_data/train/' + fname] for fname in labels['filename']]"
   ]
  },
  {
   "cell_type": "code",
   "execution_count": 6,
   "id": "bf4d1aae",
   "metadata": {},
   "outputs": [],
   "source": [
    "images = pd.DataFrame(file_paths, columns=['filename', 'filepaths'])"
   ]
  },
  {
   "cell_type": "code",
   "execution_count": 7,
   "id": "a22db4b9",
   "metadata": {},
   "outputs": [],
   "source": [
    "train_data = pd.merge(images, labels, how = 'inner', on = 'filename')"
   ]
  },
  {
   "cell_type": "code",
   "execution_count": 27,
   "id": "5ee52e33",
   "metadata": {},
   "outputs": [],
   "source": [
    "X_train = []\n",
    "y_train = []\n",
    "image_size = 75\n",
    "for i in range(len(train_data)):\n",
    "    img_array = cv2.imread(train_data['filepaths'][i], cv2.IMREAD_GRAYSCALE)   # converting the image to gray scale\n",
    "    new_img_array = cv2.resize(img_array, (image_size, image_size))      # resizing the image array\n",
    "    X_train.append(new_img_array)\n",
    "    y_train.append(train_data['label'][i])"
   ]
  },
  {
   "cell_type": "code",
   "execution_count": 28,
   "id": "6d2e7f15",
   "metadata": {},
   "outputs": [],
   "source": [
    "X_train=np.array(X_train)\n",
    "y_train=np.array(y_train)\n",
    "\n",
    "# labeling male as 1 and female as 0\n",
    "y_train=np.where(y_train==\"male\",1,0)"
   ]
  },
  {
   "cell_type": "code",
   "execution_count": 29,
   "id": "a1edf0ae",
   "metadata": {},
   "outputs": [
    {
     "name": "stdout",
     "output_type": "stream",
     "text": [
      "\n",
      "X_train.shape: (9220, 75, 75, 1), of uint8\n"
     ]
    }
   ],
   "source": [
    "# reshape for feeding into the model\n",
    "X_train = X_train.reshape(X_train.shape[0], 75, 75, 1)\n",
    "\n",
    "print('\\nX_train.shape: {}, of {}'.format(X_train.shape, X_train.dtype))"
   ]
  },
  {
   "cell_type": "code",
   "execution_count": 30,
   "id": "a331a1a4",
   "metadata": {},
   "outputs": [
    {
     "name": "stdout",
     "output_type": "stream",
     "text": [
      "Model: \"sequential_2\"\n",
      "_________________________________________________________________\n",
      " Layer (type)                Output Shape              Param #   \n",
      "=================================================================\n",
      " rescaling_2 (Rescaling)     (None, 75, 75, 1)         0         \n",
      "                                                                 \n",
      " conv2d_4 (Conv2D)           (None, 75, 75, 16)        160       \n",
      "                                                                 \n",
      " max_pooling2d_4 (MaxPooling  (None, 37, 37, 16)       0         \n",
      " 2D)                                                             \n",
      "                                                                 \n",
      " conv2d_5 (Conv2D)           (None, 37, 37, 32)        4640      \n",
      "                                                                 \n",
      " max_pooling2d_5 (MaxPooling  (None, 18, 18, 32)       0         \n",
      " 2D)                                                             \n",
      "                                                                 \n",
      " flatten_2 (Flatten)         (None, 10368)             0         \n",
      "                                                                 \n",
      " dense_6 (Dense)             (None, 256)               2654464   \n",
      "                                                                 \n",
      " dropout_4 (Dropout)         (None, 256)               0         \n",
      "                                                                 \n",
      " dense_7 (Dense)             (None, 256)               65792     \n",
      "                                                                 \n",
      " dropout_5 (Dropout)         (None, 256)               0         \n",
      "                                                                 \n",
      " dense_8 (Dense)             (None, 2)                 514       \n",
      "                                                                 \n",
      "=================================================================\n",
      "Total params: 2,725,570\n",
      "Trainable params: 2,725,570\n",
      "Non-trainable params: 0\n",
      "_________________________________________________________________\n"
     ]
    }
   ],
   "source": [
    "# define input shape\n",
    "INPUT_SHAPE = (75, 75, 1)\n",
    "\n",
    "# define sequential model\n",
    "model = tf.keras.models.Sequential()\n",
    "\n",
    "#define rescaling\n",
    "model.add(tf.keras.layers.experimental.preprocessing.Rescaling(1/1, input_shape=(75,75, 1)))\n",
    "\n",
    "# define conv-pool layers - set 1\n",
    "model.add(tf.keras.layers.Conv2D(filters=16, kernel_size=(3, 3), strides=(1, 1), \n",
    "                                activation='relu', padding='same', input_shape=INPUT_SHAPE))\n",
    "model.add(tf.keras.layers.MaxPooling2D(pool_size=(2, 2)))\n",
    "\n",
    "# define conv-pool layers - set 2\n",
    "model.add(tf.keras.layers.Conv2D(filters=32, kernel_size=(3, 3), strides=(1, 1), \n",
    "                                activation='relu', padding='same', input_shape=INPUT_SHAPE))\n",
    "model.add(tf.keras.layers.MaxPooling2D(pool_size=(2, 2)))\n",
    "\n",
    "# add flatten layer\n",
    "model.add(tf.keras.layers.Flatten())\n",
    "\n",
    "# add dense layers with some dropout\n",
    "model.add(tf.keras.layers.Dense(256, activation='relu'))\n",
    "model.add(tf.keras.layers.Dropout(rate=0.3))\n",
    "model.add(tf.keras.layers.Dense(256, activation='relu'))\n",
    "model.add(tf.keras.layers.Dropout(rate=0.3))\n",
    "\n",
    "# add output layer\n",
    "model.add(tf.keras.layers.Dense(2, activation='softmax'))\n",
    "\n",
    "# compile model\n",
    "model.compile(optimizer='adam', \n",
    "              loss='sparse_categorical_crossentropy', \n",
    "              metrics=['accuracy'])\n",
    "\n",
    "# view model layers\n",
    "model.summary()"
   ]
  },
  {
   "cell_type": "code",
   "execution_count": 31,
   "id": "a06e9680",
   "metadata": {},
   "outputs": [],
   "source": [
    "EPOCHS = 20\n",
    "X_train_scaled = X_train / 255.\n",
    "es_callback = tf.keras.callbacks.EarlyStopping(monitor='val_loss', patience=2, \n",
    "                                               restore_best_weights=True,\n",
    "                                               verbose=1)\n"
   ]
  },
  {
   "cell_type": "code",
   "execution_count": 33,
   "id": "10189edd",
   "metadata": {},
   "outputs": [
    {
     "name": "stdout",
     "output_type": "stream",
     "text": [
      "Epoch 1/20\n",
      "42/42 [==============================] - 27s 380ms/step - loss: 0.6903 - accuracy: 0.5753 - val_loss: 0.5902 - val_accuracy: 0.7354\n",
      "Epoch 2/20\n",
      "42/42 [==============================] - 15s 364ms/step - loss: 0.4866 - accuracy: 0.7772 - val_loss: 0.4272 - val_accuracy: 0.8113\n",
      "Epoch 3/20\n",
      "42/42 [==============================] - 16s 383ms/step - loss: 0.3855 - accuracy: 0.8308 - val_loss: 0.3855 - val_accuracy: 0.8275\n",
      "Epoch 4/20\n",
      "42/42 [==============================] - 16s 372ms/step - loss: 0.3503 - accuracy: 0.8536 - val_loss: 0.3172 - val_accuracy: 0.8720\n",
      "Epoch 5/20\n",
      "42/42 [==============================] - 16s 372ms/step - loss: 0.3192 - accuracy: 0.8644 - val_loss: 0.3031 - val_accuracy: 0.8829\n",
      "Epoch 6/20\n",
      "42/42 [==============================] - 16s 372ms/step - loss: 0.2816 - accuracy: 0.8827 - val_loss: 0.2888 - val_accuracy: 0.8872\n",
      "Epoch 7/20\n",
      "42/42 [==============================] - 16s 371ms/step - loss: 0.2621 - accuracy: 0.8941 - val_loss: 0.2906 - val_accuracy: 0.8764\n",
      "Epoch 8/20\n",
      "42/42 [==============================] - ETA: 0s - loss: 0.2480 - accuracy: 0.8993Restoring model weights from the end of the best epoch: 6.\n",
      "42/42 [==============================] - 16s 379ms/step - loss: 0.2480 - accuracy: 0.8993 - val_loss: 0.3197 - val_accuracy: 0.8764\n",
      "Epoch 00008: early stopping\n"
     ]
    }
   ],
   "source": [
    "history = model.fit(X_train_scaled, y_train,\n",
    "                    batch_size=200,\n",
    "                    callbacks=[es_callback], \n",
    "                    validation_split=0.1, epochs=EPOCHS,\n",
    "                    verbose=1)"
   ]
  },
  {
   "cell_type": "code",
   "execution_count": 34,
   "id": "22936a92",
   "metadata": {},
   "outputs": [
    {
     "data": {
      "image/png": "[encoded data removed]",
      "text/plain": [
       "<Figure size 720x288 with 2 Axes>"
      ]
     },
     "metadata": {
      "needs_background": "light"
     },
     "output_type": "display_data"
    }
   ],
   "source": [
    "import pandas as pd\n",
    "import matplotlib.pyplot as plt\n",
    "\n",
    "fig, ax = plt.subplots(1, 2, figsize=(10, 4))\n",
    "\n",
    "history_df = pd.DataFrame(history.history)\n",
    "history_df[['loss', 'val_loss']].plot(kind='line', ax=ax[0])\n",
    "history_df[['accuracy', 'val_accuracy']].plot(kind='line', ax=ax[1]);"
   ]
  },
  {
   "cell_type": "code",
   "execution_count": 35,
   "id": "86c5264b",
   "metadata": {},
   "outputs": [],
   "source": [
    "labels = pd.read_csv(\"content/eye_gender_data/Testing_set.csv\")   # loading the labels\n",
    "file_paths = [[fname, 'content/eye_gender_data/test/' + fname] for fname in labels['filename']]\n",
    "images = pd.DataFrame(file_paths, columns=['filename', 'filepaths'])\n",
    "test_data = pd.merge(images, labels, how = 'inner', on = 'filename')\n",
    "\n",
    "X_test = [] # initialize an empty numpy array\n",
    "image_size = 75     # image size taken is 100 here. one can take other size too\n",
    "for i in range(len(test_data)):\n",
    "    img_array = cv2.imread(test_data['filepaths'][i], cv2.IMREAD_GRAYSCALE)   # converting the image to gray scale\n",
    "    new_img_array = cv2.resize(img_array, (image_size, image_size))      # resizing the image array\n",
    "    X_test.append(new_img_array)"
   ]
  },
  {
   "cell_type": "code",
   "execution_count": 36,
   "id": "e31f1535",
   "metadata": {},
   "outputs": [
    {
     "data": {
      "text/plain": [
       "(2305, 75, 75)"
      ]
     },
     "execution_count": 36,
     "metadata": {},
     "output_type": "execute_result"
    }
   ],
   "source": [
    "X_test=np.array(X_test)\n",
    "X_test.shape"
   ]
  },
  {
   "cell_type": "code",
   "execution_count": 37,
   "id": "1a90d91e",
   "metadata": {},
   "outputs": [],
   "source": [
    "X_test = X_test / 255."
   ]
  },
  {
   "cell_type": "code",
   "execution_count": 38,
   "id": "6b9b34a6",
   "metadata": {},
   "outputs": [
    {
     "name": "stdout",
     "output_type": "stream",
     "text": [
      "\n",
      "X_test.shape: (2305, 75, 75, 1), of float64\n"
     ]
    }
   ],
   "source": [
    "# reshape for feeding into the model\n",
    "X_test = X_test.reshape(X_test.shape[0], 75, 75, 1)\n",
    "\n",
    "print('\\nX_test.shape: {}, of {}'.format(X_test.shape, X_test.dtype))"
   ]
  },
  {
   "cell_type": "code",
   "execution_count": 39,
   "id": "8f498a7f",
   "metadata": {},
   "outputs": [
    {
     "data": {
      "text/plain": [
       "array([[0.00554953, 0.99445045],\n",
       "       [0.1670588 , 0.8329412 ],\n",
       "       [0.15343988, 0.8465601 ],\n",
       "       [0.70000863, 0.29999137],\n",
       "       [0.01446496, 0.985535  ]], dtype=float32)"
      ]
     },
     "execution_count": 39,
     "metadata": {},
     "output_type": "execute_result"
    }
   ],
   "source": [
    "predictions = model.predict(X_test)\n",
    "predictions[:5]"
   ]
  },
  {
   "cell_type": "code",
   "execution_count": 40,
   "id": "ddbe9d3c",
   "metadata": {},
   "outputs": [
    {
     "data": {
      "text/plain": [
       "array([1, 1, 1, 0, 1, 1, 0, 1, 1, 0], dtype=int64)"
      ]
     },
     "execution_count": 40,
     "metadata": {},
     "output_type": "execute_result"
    }
   ],
   "source": [
    "prediction_labels = np.argmax(predictions, axis=1)\n",
    "prediction_labels[:10]"
   ]
  },
  {
   "cell_type": "code",
   "execution_count": 41,
   "id": "4d9e0820",
   "metadata": {},
   "outputs": [],
   "source": [
    "prediction_labels=np.where(prediction_labels==1,\"male\",\"female\")"
   ]
  },
  {
   "cell_type": "code",
   "execution_count": 42,
   "id": "156ffd82",
   "metadata": {},
   "outputs": [],
   "source": [
    "res = pd.DataFrame(prediction_labels)  \n",
    "res.columns = [\"label\"]\n",
    "res.to_csv(\"prediction_results_8.csv\", index = False)"
   ]
  }
 ],
 "metadata": {
  "kernelspec": {
   "display_name": "Python 3 (ipykernel)",
   "language": "python",
   "name": "python3"
  },
  "language_info": {
   "codemirror_mode": {
    "name": "ipython",
    "version": 3
   },
   "file_extension": ".py",
   "mimetype": "text/x-python",
   "name": "python",
   "nbconvert_exporter": "python",
   "pygments_lexer": "ipython3",
   "version": "3.8.11"
  }
 },
 "nbformat": 4,
 "nbformat_minor": 5
}
